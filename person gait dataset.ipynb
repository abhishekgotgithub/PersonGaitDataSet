{
 "cells": [
  {
   "cell_type": "markdown",
   "metadata": {},
   "source": [
    "source httparchive.ics.uci.edumldatasetsGait+Classification#"
   ]
  },
  {
   "cell_type": "code",
   "execution_count": 3,
   "metadata": {},
   "outputs": [],
   "source": [
    "import numpy as np\n",
    "import pandas as pd\n",
    "import matplotlib.pyplot as plt\n",
    "import seaborn as sns\n",
    "import scipy.io"
   ]
  },
  {
   "cell_type": "code",
   "execution_count": 4,
   "metadata": {},
   "outputs": [
    {
     "data": {
      "text/html": [
       "<div>\n",
       "<style scoped>\n",
       "    .dataframe tbody tr th:only-of-type {\n",
       "        vertical-align: middle;\n",
       "    }\n",
       "\n",
       "    .dataframe tbody tr th {\n",
       "        vertical-align: top;\n",
       "    }\n",
       "\n",
       "    .dataframe thead th {\n",
       "        text-align: right;\n",
       "    }\n",
       "</style>\n",
       "<table border=\"1\" class=\"dataframe\">\n",
       "  <thead>\n",
       "    <tr style=\"text-align: right;\">\n",
       "      <th></th>\n",
       "      <th>X</th>\n",
       "      <th>Y</th>\n",
       "    </tr>\n",
       "  </thead>\n",
       "  <tbody>\n",
       "    <tr>\n",
       "      <th>0</th>\n",
       "      <td>1.320</td>\n",
       "      <td>1.290</td>\n",
       "    </tr>\n",
       "    <tr>\n",
       "      <th>1</th>\n",
       "      <td>4.150</td>\n",
       "      <td>0.000</td>\n",
       "    </tr>\n",
       "    <tr>\n",
       "      <th>2</th>\n",
       "      <td>4.000</td>\n",
       "      <td>0.900</td>\n",
       "    </tr>\n",
       "    <tr>\n",
       "      <th>3</th>\n",
       "      <td>1.054</td>\n",
       "      <td>1.119</td>\n",
       "    </tr>\n",
       "    <tr>\n",
       "      <th>4</th>\n",
       "      <td>1.054</td>\n",
       "      <td>1.137</td>\n",
       "    </tr>\n",
       "  </tbody>\n",
       "</table>\n",
       "</div>"
      ],
      "text/plain": [
       "       X      Y\n",
       "0  1.320  1.290\n",
       "1  4.150  0.000\n",
       "2  4.000  0.900\n",
       "3  1.054  1.119\n",
       "4  1.054  1.137"
      ]
     },
     "execution_count": 4,
     "metadata": {},
     "output_type": "execute_result"
    }
   ],
   "source": [
    "mat = scipy.io.loadmat('C:/Users/Admin/Desktop/daily practise/7 june/PersonGaitDataSet.mat')\n",
    "con_list = [[element for element in upperElement] for upperElement in mat['X']]\n",
    "newData = list(zip(con_list[0], con_list[1]))\n",
    "columns = ['X', 'Y']\n",
    "df = pd.DataFrame(newData, columns=columns)\n",
    "df.head()"
   ]
  },
  {
   "cell_type": "code",
   "execution_count": 5,
   "metadata": {},
   "outputs": [
    {
     "name": "stdout",
     "output_type": "stream",
     "text": [
      "<class 'pandas.core.frame.DataFrame'>\n",
      "RangeIndex: 321 entries, 0 to 320\n",
      "Data columns (total 2 columns):\n",
      " #   Column  Non-Null Count  Dtype  \n",
      "---  ------  --------------  -----  \n",
      " 0   X       321 non-null    float64\n",
      " 1   Y       321 non-null    float64\n",
      "dtypes: float64(2)\n",
      "memory usage: 5.1 KB\n"
     ]
    }
   ],
   "source": [
    "df.info()"
   ]
  },
  {
   "cell_type": "code",
   "execution_count": 6,
   "metadata": {},
   "outputs": [],
   "source": [
    "# analysis using numpy"
   ]
  },
  {
   "cell_type": "code",
   "execution_count": 11,
   "metadata": {},
   "outputs": [
    {
     "data": {
      "text/plain": [
       "array([4.15 , 4.075, 4.147, 4.39 , 4.41 , 4.78 , 4.92 , 5.73 , 4.34 ,\n",
       "       4.25 , 4.47 , 4.88 , 6.14 , 4.59 , 5.99 , 5.41 , 5.53 , 6.13 ,\n",
       "       5.05 , 4.069, 4.091, 4.496, 4.469, 4.56 , 4.98 , 4.99 , 4.17 ,\n",
       "       4.84 ])"
      ]
     },
     "execution_count": 11,
     "metadata": {},
     "output_type": "execute_result"
    }
   ],
   "source": [
    "# extarct elements from xolumn x which is greater tahn 4 and less than 7\n",
    "x_array = np.array(df['X'])\n",
    "x_array[(x_array>4.0) & (x_array<7.0)]"
   ]
  },
  {
   "cell_type": "code",
   "execution_count": 12,
   "metadata": {},
   "outputs": [
    {
     "data": {
      "text/plain": [
       "array([[ 1.3200e+00,  4.1500e+00,  4.0000e+00,  1.0540e+00,  1.0540e+00,\n",
       "         1.0500e+00,  1.0600e+00,  4.3000e-02,  4.4000e-02,  4.4000e-02,\n",
       "         4.5000e-02,  9.8500e-01,  9.8000e-01,  1.2650e+00,  1.2800e+00,\n",
       "         9.9900e-01,  1.0010e+00,  4.0750e+00,  4.1470e+00,  1.1406e+02,\n",
       "         1.1399e+02,  1.1429e+02,  1.1321e+02,  4.3900e+00,  4.4100e+00,\n",
       "         4.7800e+00,  4.9200e+00,  9.4860e+01,  9.3750e+01,  1.2183e+02,\n",
       "         1.2245e+02,  1.0000e+00,  1.0000e+00,  3.8500e+00,  3.8700e+00,\n",
       "         1.2970e+00,  1.3510e+00,  1.3270e+00,  1.3550e+00,  1.5000e-01,\n",
       "         7.7000e-02,  1.3900e-01,  1.0100e-01,  7.7600e-01,  1.0950e+00,\n",
       "         1.4940e+00,  1.4870e+00,  9.6000e-01,  1.0420e+00,  1.1566e+01,\n",
       "         5.7300e+00,  1.2550e+00,  1.3200e+00,  1.2940e+00,  1.3200e+00,\n",
       "         1.6500e-01,  1.1100e-01,  1.7400e-01,  1.3200e-01,  6.6500e-01,\n",
       "         9.5300e-01,  1.6040e+00,  1.5810e+00,  9.5100e-01,  1.0520e+00,\n",
       "         1.3111e+01,  8.3860e+00,  1.5500e+01,  1.6500e+01,  3.3000e+00,\n",
       "         3.4000e+00,  2.6400e+01,  2.6600e+01,  2.7200e+01,  2.7700e+01,\n",
       "        -4.3700e+01, -1.4600e+01,  7.8400e+01,  7.9000e+01,  9.0000e-01,\n",
       "         1.1000e+00,  5.6700e+01,  5.8410e+01,  5.6590e+01,  5.8430e+01,\n",
       "         1.8800e+00,  1.7700e+00,  2.6100e+00,  2.3700e+00,  5.2170e+01,\n",
       "         5.4550e+01,  6.0490e+01,  6.5230e+01,  9.7000e-01,  3.0300e+00,\n",
       "         3.3100e+00,  3.0300e+00,  4.3300e+01,  4.1590e+01,  4.3410e+01,\n",
       "         4.1570e+01,  1.8800e+00,  1.7700e+00,  2.6100e+00,  2.3700e+00,\n",
       "         3.9510e+01,  3.4770e+01],\n",
       "       [ 4.7830e+01,  4.5450e+01,  1.0400e+00,  9.6000e-01,  4.3400e+00,\n",
       "         4.2500e+00,  1.8110e+01,  2.0120e+01,  1.7910e+01,  2.0740e+01,\n",
       "         4.4700e+00,  4.8800e+00,  6.1400e+00,  4.5900e+00,  7.5800e+00,\n",
       "         5.9900e+00,  3.1620e+01,  3.7170e+01,  9.0000e-01,  1.1100e+00,\n",
       "         2.4660e+01,  2.4230e+01,  5.1950e+01,  4.8720e+01,  5.2180e+01,\n",
       "         4.8100e+01,  5.4100e+00,  5.5300e+00,  6.1300e+00,  5.0500e+00,\n",
       "         3.9320e+01,  2.7430e+01,  6.8940e+01,  6.6470e+01,  1.0700e+00,\n",
       "         9.4000e-01,  1.0420e+01,  1.1350e+01,  2.9940e+01,  3.1150e+01,\n",
       "         2.9790e+01,  3.0960e+01,  2.5700e+00,  2.4900e+00,  3.1300e+00,\n",
       "         3.6400e+00,  2.3480e+01,  2.4030e+01,  3.5900e+01,  3.5900e+01,\n",
       "         9.6000e-01,  1.0400e+00,  8.5800e+00,  7.9800e+00,  1.5240e+01,\n",
       "         1.5240e+01,  1.5200e+01,  1.5200e+01,  2.2200e+00,  2.2200e+00,\n",
       "         2.9200e+00,  2.9200e+00,  9.9500e+00,  9.9500e+00,  2.0800e+01,\n",
       "         2.0800e+01,  1.5540e+01,  1.5540e+01,  3.9550e+02,  4.2700e+02,\n",
       "         4.0440e+02,  4.4010e+02,  3.8200e+01,  4.3400e+01,  2.5500e+01,\n",
       "         5.3700e+01,  2.0570e+02,  2.9410e+02,  4.3360e+02,  4.9080e+02,\n",
       "         9.7000e+00,  1.0200e+01,  3.8490e+00,  4.0690e+00,  3.9480e+00,\n",
       "         4.0910e+00,  4.7100e-01,  2.5500e-01,  3.0200e-01,  3.4500e-01,\n",
       "         1.4330e+00,  3.3230e+00,  4.4960e+00,  4.4690e+00,  9.4600e-01,\n",
       "         1.0570e+00,  2.8850e+01,  3.1810e+01,  3.1130e+01,  3.3160e+01,\n",
       "         4.5600e+00,  4.9800e+00,  4.9900e+00,  4.1700e+00,  1.5090e+01,\n",
       "         8.6700e+00,  3.8480e+01],\n",
       "       [ 3.8450e+01,  9.1000e-01,  1.1000e+00,  1.5810e+01,  1.5650e+01,\n",
       "        -6.9510e+01, -6.7030e+01, -7.0950e+01, -6.7380e+01,  7.2800e+00,\n",
       "         3.1600e+00,  3.5700e+00,  4.8400e+00, -7.6090e+01, -7.3290e+01,\n",
       "        -2.5070e+01, -6.0150e+01,  1.0400e+00,  9.6000e-01, -1.0480e+01,\n",
       "        -4.7200e+00,  5.0000e-03, -7.9000e-02,  3.5000e-02, -5.0000e-02,\n",
       "         6.8000e-02,  8.0000e-02,  9.0000e-02,  4.9000e-02, -1.7200e-01,\n",
       "        -3.2300e-01,  9.1000e-02,  2.3000e-01, -6.1000e-02, -1.6323e+01,\n",
       "         1.1040e+02,  1.1000e+02,  1.0952e+02,  1.0895e+02,  3.0800e+00,\n",
       "         3.7200e+00,  2.4100e+00,  2.9800e+00,  1.0714e+02,  1.0535e+02,\n",
       "         1.2246e+02,  1.2315e+02,  1.0000e+00,  1.0000e+00,  2.7900e+00,\n",
       "         3.3800e+00,  2.8500e-01,  2.8800e-01,  2.8500e-01,  2.8900e-01,\n",
       "         3.4000e-02,  2.0000e-02,  2.3000e-02,  2.7000e-02,  8.2000e-02,\n",
       "         2.4600e-01,  3.5500e-01,  3.3200e-01,  9.8900e-01,  1.0110e+00,\n",
       "         1.0500e-01,  1.0200e-01,  1.0400e-01,  1.0300e-01,  1.8000e-02,\n",
       "         1.5000e-02,  1.5000e-02,  1.9000e-02,  3.5000e-02,  7.0000e-02,\n",
       "         1.6100e-01,  1.3800e-01,  1.0250e+00,  9.7600e-01,  5.0000e-02,\n",
       "         4.2000e-02,  5.1000e-02,  4.1000e-02,  1.1000e-02,  1.0000e-02,\n",
       "         1.2000e-02,  1.0000e-02,  2.3000e-02,  1.8000e-02,  7.2000e-02,\n",
       "         6.7000e-02,  1.1860e+00,  8.4300e-01,  1.5200e-01,  1.6400e-01,\n",
       "         1.5700e-01,  1.6400e-01,  3.2000e-02,  2.7000e-02,  4.4000e-02,\n",
       "         3.9000e-02,  7.3000e-02,  9.7000e-02,  2.3200e-01,  2.1500e-01,\n",
       "         9.2800e-01,  1.0780e+00]])"
      ]
     },
     "execution_count": 12,
     "metadata": {},
     "output_type": "execute_result"
    }
   ],
   "source": [
    "# reshape x_array\n",
    "np.reshape(x_array,(3,-1))"
   ]
  },
  {
   "cell_type": "code",
   "execution_count": 15,
   "metadata": {},
   "outputs": [
    {
     "data": {
      "text/plain": [
       "array([  1,   4,   4,   1,   1,   1,   1,   0,   0,   0,   0,   1,   1,\n",
       "         1,   1,   1,   1,   4,   4, 114, 114, 114, 113,   4,   4,   5,\n",
       "         5,  95,  94, 122, 122,   1,   1,   4,   4,   1,   1,   1,   1,\n",
       "         0,   0,   0,   0,   1,   1,   1,   1,   1,   1,  12,   6,   1,\n",
       "         1,   1,   1,   0,   0,   0,   0,   1,   1,   2,   2,   1,   1,\n",
       "        13,   8,  16,  16,   3,   3,  26,  27,  27,  28, -44, -15,  78,\n",
       "        79,   1,   1,  57,  58,  57,  58,   2,   2,   3,   2,  52,  55,\n",
       "        60,  65,   1,   3,   3,   3,  43,  42,  43,  42,   2,   2,   3,\n",
       "         2,  40,  35,  48,  45,   1,   1,   4,   4,  18,  20,  18,  21,\n",
       "         4,   5,   6,   5,   8,   6,  32,  37,   1,   1,  25,  24,  52,\n",
       "        49,  52,  48,   5,   6,   6,   5,  39,  27,  69,  66,   1,   1,\n",
       "        10,  11,  30,  31,  30,  31,   3,   2,   3,   4,  23,  24,  36,\n",
       "        36,   1,   1,   9,   8,  15,  15,  15,  15,   2,   2,   3,   3,\n",
       "        10,  10,  21,  21,  16,  16, 396, 427, 404, 440,  38,  43,  26,\n",
       "        54, 206, 294, 434, 491,  10,  10,   4,   4,   4,   4,   0,   0,\n",
       "         0,   0,   1,   3,   4,   4,   1,   1,  29,  32,  31,  33,   5,\n",
       "         5,   5,   4,  15,   9,  38,  38,   1,   1,  16,  16, -70, -67,\n",
       "       -71, -67,   7,   3,   4,   5, -76, -73, -25, -60,   1,   1, -10,\n",
       "        -5,   0,   0,   0,   0,   0,   0,   0,   0,   0,   0,   0,   0,\n",
       "         0, -16, 110, 110, 110, 109,   3,   4,   2,   3, 107, 105, 122,\n",
       "       123,   1,   1,   3,   3,   0,   0,   0,   0,   0,   0,   0,   0,\n",
       "         0,   0,   0,   0,   1,   1,   0,   0,   0,   0,   0,   0,   0,\n",
       "         0,   0,   0,   0,   0,   1,   1,   0,   0,   0,   0,   0,   0,\n",
       "         0,   0,   0,   0,   0,   0,   1,   1,   0,   0,   0,   0,   0,\n",
       "         0,   0,   0,   0,   0,   0,   0,   1,   1])"
      ]
     },
     "execution_count": 15,
     "metadata": {},
     "output_type": "execute_result"
    }
   ],
   "source": [
    "# applying scaler funtioc to a vector\n",
    "def r(a):\n",
    "    return round(a)\n",
    "x_def=np.vectorize(r)\n",
    "x_def(x_array)"
   ]
  },
  {
   "cell_type": "code",
   "execution_count": 16,
   "metadata": {},
   "outputs": [
    {
     "data": {
      "text/plain": [
       "array([[ 4.7830e+01,  4.5450e+01,  1.0400e+00,  9.6000e-01,  4.3400e+00,\n",
       "         4.2500e+00,  1.8110e+01,  2.0120e+01,  1.7910e+01,  2.0740e+01,\n",
       "         4.4700e+00,  4.8800e+00,  6.1400e+00,  4.5900e+00,  7.5800e+00,\n",
       "         5.9900e+00,  3.1620e+01,  3.7170e+01,  9.0000e-01,  1.1100e+00,\n",
       "         2.4660e+01,  2.4230e+01,  5.1950e+01,  4.8720e+01,  5.2180e+01,\n",
       "         4.8100e+01,  5.4100e+00,  5.5300e+00,  6.1300e+00,  5.0500e+00,\n",
       "         3.9320e+01,  2.7430e+01,  6.8940e+01,  6.6470e+01,  1.0700e+00,\n",
       "         9.4000e-01,  1.0420e+01,  1.1350e+01,  2.9940e+01,  3.1150e+01,\n",
       "         2.9790e+01,  3.0960e+01,  2.5700e+00,  2.4900e+00,  3.1300e+00,\n",
       "         3.6400e+00,  2.3480e+01,  2.4030e+01,  3.5900e+01,  3.5900e+01,\n",
       "         9.6000e-01,  1.0400e+00,  8.5800e+00,  7.9800e+00,  1.5240e+01,\n",
       "         1.5240e+01,  1.5200e+01,  1.5200e+01,  2.2200e+00,  2.2200e+00,\n",
       "         2.9200e+00,  2.9200e+00,  9.9500e+00,  9.9500e+00,  2.0800e+01,\n",
       "         2.0800e+01,  1.5540e+01,  1.5540e+01,  3.9550e+02,  4.2700e+02,\n",
       "         4.0440e+02,  4.4010e+02,  3.8200e+01,  4.3400e+01,  2.5500e+01,\n",
       "         5.3700e+01,  2.0570e+02,  2.9410e+02,  4.3360e+02,  4.9080e+02,\n",
       "         9.7000e+00,  1.0200e+01,  3.8490e+00,  4.0690e+00,  3.9480e+00,\n",
       "         4.0910e+00,  4.7100e-01,  2.5500e-01,  3.0200e-01,  3.4500e-01,\n",
       "         1.4330e+00,  3.3230e+00,  4.4960e+00,  4.4690e+00,  9.4600e-01,\n",
       "         1.0570e+00,  2.8850e+01,  3.1810e+01,  3.1130e+01,  3.3160e+01,\n",
       "         4.5600e+00,  4.9800e+00,  4.9900e+00,  4.1700e+00,  1.5090e+01,\n",
       "         8.6700e+00,  3.8480e+01],\n",
       "       [ 1.3200e+00,  4.1500e+00,  4.0000e+00,  1.0540e+00,  1.0540e+00,\n",
       "         1.0500e+00,  1.0600e+00,  4.3000e-02,  4.4000e-02,  4.4000e-02,\n",
       "         4.5000e-02,  9.8500e-01,  9.8000e-01,  1.2650e+00,  1.2800e+00,\n",
       "         9.9900e-01,  1.0010e+00,  4.0750e+00,  4.1470e+00,  1.1406e+02,\n",
       "         1.1399e+02,  1.1429e+02,  1.1321e+02,  4.3900e+00,  4.4100e+00,\n",
       "         4.7800e+00,  4.9200e+00,  9.4860e+01,  9.3750e+01,  1.2183e+02,\n",
       "         1.2245e+02,  1.0000e+00,  1.0000e+00,  3.8500e+00,  3.8700e+00,\n",
       "         1.2970e+00,  1.3510e+00,  1.3270e+00,  1.3550e+00,  1.5000e-01,\n",
       "         7.7000e-02,  1.3900e-01,  1.0100e-01,  7.7600e-01,  1.0950e+00,\n",
       "         1.4940e+00,  1.4870e+00,  9.6000e-01,  1.0420e+00,  1.1566e+01,\n",
       "         5.7300e+00,  1.2550e+00,  1.3200e+00,  1.2940e+00,  1.3200e+00,\n",
       "         1.6500e-01,  1.1100e-01,  1.7400e-01,  1.3200e-01,  6.6500e-01,\n",
       "         9.5300e-01,  1.6040e+00,  1.5810e+00,  9.5100e-01,  1.0520e+00,\n",
       "         1.3111e+01,  8.3860e+00,  1.5500e+01,  1.6500e+01,  3.3000e+00,\n",
       "         3.4000e+00,  2.6400e+01,  2.6600e+01,  2.7200e+01,  2.7700e+01,\n",
       "        -4.3700e+01, -1.4600e+01,  7.8400e+01,  7.9000e+01,  9.0000e-01,\n",
       "         1.1000e+00,  5.6700e+01,  5.8410e+01,  5.6590e+01,  5.8430e+01,\n",
       "         1.8800e+00,  1.7700e+00,  2.6100e+00,  2.3700e+00,  5.2170e+01,\n",
       "         5.4550e+01,  6.0490e+01,  6.5230e+01,  9.7000e-01,  3.0300e+00,\n",
       "         3.3100e+00,  3.0300e+00,  4.3300e+01,  4.1590e+01,  4.3410e+01,\n",
       "         4.1570e+01,  1.8800e+00,  1.7700e+00,  2.6100e+00,  2.3700e+00,\n",
       "         3.9510e+01,  3.4770e+01]])"
      ]
     },
     "execution_count": 16,
     "metadata": {},
     "output_type": "execute_result"
    }
   ],
   "source": [
    "# swapping few rows of x_array\n",
    "np.reshape(x_array,(3,-1))[[1,0],:]"
   ]
  },
  {
   "cell_type": "code",
   "execution_count": 17,
   "metadata": {},
   "outputs": [
    {
     "data": {
      "text/plain": [
       "array([[ 4.15,  1.32],\n",
       "       [45.45, 47.83],\n",
       "       [ 0.91, 38.45]])"
      ]
     },
     "execution_count": 17,
     "metadata": {},
     "output_type": "execute_result"
    }
   ],
   "source": [
    "# swapping few columns of x_array\n",
    "np.reshape(x_array,(3,-1))[:,[1,0]]"
   ]
  },
  {
   "cell_type": "code",
   "execution_count": 19,
   "metadata": {},
   "outputs": [
    {
     "data": {
      "text/plain": [
       "array([ 1.0780e+00,  9.2800e-01,  2.1500e-01,  2.3200e-01,  9.7000e-02,\n",
       "        7.3000e-02,  3.9000e-02,  4.4000e-02,  2.7000e-02,  3.2000e-02,\n",
       "        1.6400e-01,  1.5700e-01,  1.6400e-01,  1.5200e-01,  8.4300e-01,\n",
       "        1.1860e+00,  6.7000e-02,  7.2000e-02,  1.8000e-02,  2.3000e-02,\n",
       "        1.0000e-02,  1.2000e-02,  1.0000e-02,  1.1000e-02,  4.1000e-02,\n",
       "        5.1000e-02,  4.2000e-02,  5.0000e-02,  9.7600e-01,  1.0250e+00,\n",
       "        1.3800e-01,  1.6100e-01,  7.0000e-02,  3.5000e-02,  1.9000e-02,\n",
       "        1.5000e-02,  1.5000e-02,  1.8000e-02,  1.0300e-01,  1.0400e-01,\n",
       "        1.0200e-01,  1.0500e-01,  1.0110e+00,  9.8900e-01,  3.3200e-01,\n",
       "        3.5500e-01,  2.4600e-01,  8.2000e-02,  2.7000e-02,  2.3000e-02,\n",
       "        2.0000e-02,  3.4000e-02,  2.8900e-01,  2.8500e-01,  2.8800e-01,\n",
       "        2.8500e-01,  3.3800e+00,  2.7900e+00,  1.0000e+00,  1.0000e+00,\n",
       "        1.2315e+02,  1.2246e+02,  1.0535e+02,  1.0714e+02,  2.9800e+00,\n",
       "        2.4100e+00,  3.7200e+00,  3.0800e+00,  1.0895e+02,  1.0952e+02,\n",
       "        1.1000e+02,  1.1040e+02, -1.6323e+01, -6.1000e-02,  2.3000e-01,\n",
       "        9.1000e-02, -3.2300e-01, -1.7200e-01,  4.9000e-02,  9.0000e-02,\n",
       "        8.0000e-02,  6.8000e-02, -5.0000e-02,  3.5000e-02, -7.9000e-02,\n",
       "        5.0000e-03, -4.7200e+00, -1.0480e+01,  9.6000e-01,  1.0400e+00,\n",
       "       -6.0150e+01, -2.5070e+01, -7.3290e+01, -7.6090e+01,  4.8400e+00,\n",
       "        3.5700e+00,  3.1600e+00,  7.2800e+00, -6.7380e+01, -7.0950e+01,\n",
       "       -6.7030e+01, -6.9510e+01,  1.5650e+01,  1.5810e+01,  1.1000e+00,\n",
       "        9.1000e-01,  3.8450e+01,  3.8480e+01,  8.6700e+00,  1.5090e+01,\n",
       "        4.1700e+00,  4.9900e+00,  4.9800e+00,  4.5600e+00,  3.3160e+01,\n",
       "        3.1130e+01,  3.1810e+01,  2.8850e+01,  1.0570e+00,  9.4600e-01,\n",
       "        4.4690e+00,  4.4960e+00,  3.3230e+00,  1.4330e+00,  3.4500e-01,\n",
       "        3.0200e-01,  2.5500e-01,  4.7100e-01,  4.0910e+00,  3.9480e+00,\n",
       "        4.0690e+00,  3.8490e+00,  1.0200e+01,  9.7000e+00,  4.9080e+02,\n",
       "        4.3360e+02,  2.9410e+02,  2.0570e+02,  5.3700e+01,  2.5500e+01,\n",
       "        4.3400e+01,  3.8200e+01,  4.4010e+02,  4.0440e+02,  4.2700e+02,\n",
       "        3.9550e+02,  1.5540e+01,  1.5540e+01,  2.0800e+01,  2.0800e+01,\n",
       "        9.9500e+00,  9.9500e+00,  2.9200e+00,  2.9200e+00,  2.2200e+00,\n",
       "        2.2200e+00,  1.5200e+01,  1.5200e+01,  1.5240e+01,  1.5240e+01,\n",
       "        7.9800e+00,  8.5800e+00,  1.0400e+00,  9.6000e-01,  3.5900e+01,\n",
       "        3.5900e+01,  2.4030e+01,  2.3480e+01,  3.6400e+00,  3.1300e+00,\n",
       "        2.4900e+00,  2.5700e+00,  3.0960e+01,  2.9790e+01,  3.1150e+01,\n",
       "        2.9940e+01,  1.1350e+01,  1.0420e+01,  9.4000e-01,  1.0700e+00,\n",
       "        6.6470e+01,  6.8940e+01,  2.7430e+01,  3.9320e+01,  5.0500e+00,\n",
       "        6.1300e+00,  5.5300e+00,  5.4100e+00,  4.8100e+01,  5.2180e+01,\n",
       "        4.8720e+01,  5.1950e+01,  2.4230e+01,  2.4660e+01,  1.1100e+00,\n",
       "        9.0000e-01,  3.7170e+01,  3.1620e+01,  5.9900e+00,  7.5800e+00,\n",
       "        4.5900e+00,  6.1400e+00,  4.8800e+00,  4.4700e+00,  2.0740e+01,\n",
       "        1.7910e+01,  2.0120e+01,  1.8110e+01,  4.2500e+00,  4.3400e+00,\n",
       "        9.6000e-01,  1.0400e+00,  4.5450e+01,  4.7830e+01,  3.4770e+01,\n",
       "        3.9510e+01,  2.3700e+00,  2.6100e+00,  1.7700e+00,  1.8800e+00,\n",
       "        4.1570e+01,  4.3410e+01,  4.1590e+01,  4.3300e+01,  3.0300e+00,\n",
       "        3.3100e+00,  3.0300e+00,  9.7000e-01,  6.5230e+01,  6.0490e+01,\n",
       "        5.4550e+01,  5.2170e+01,  2.3700e+00,  2.6100e+00,  1.7700e+00,\n",
       "        1.8800e+00,  5.8430e+01,  5.6590e+01,  5.8410e+01,  5.6700e+01,\n",
       "        1.1000e+00,  9.0000e-01,  7.9000e+01,  7.8400e+01, -1.4600e+01,\n",
       "       -4.3700e+01,  2.7700e+01,  2.7200e+01,  2.6600e+01,  2.6400e+01,\n",
       "        3.4000e+00,  3.3000e+00,  1.6500e+01,  1.5500e+01,  8.3860e+00,\n",
       "        1.3111e+01,  1.0520e+00,  9.5100e-01,  1.5810e+00,  1.6040e+00,\n",
       "        9.5300e-01,  6.6500e-01,  1.3200e-01,  1.7400e-01,  1.1100e-01,\n",
       "        1.6500e-01,  1.3200e+00,  1.2940e+00,  1.3200e+00,  1.2550e+00,\n",
       "        5.7300e+00,  1.1566e+01,  1.0420e+00,  9.6000e-01,  1.4870e+00,\n",
       "        1.4940e+00,  1.0950e+00,  7.7600e-01,  1.0100e-01,  1.3900e-01,\n",
       "        7.7000e-02,  1.5000e-01,  1.3550e+00,  1.3270e+00,  1.3510e+00,\n",
       "        1.2970e+00,  3.8700e+00,  3.8500e+00,  1.0000e+00,  1.0000e+00,\n",
       "        1.2245e+02,  1.2183e+02,  9.3750e+01,  9.4860e+01,  4.9200e+00,\n",
       "        4.7800e+00,  4.4100e+00,  4.3900e+00,  1.1321e+02,  1.1429e+02,\n",
       "        1.1399e+02,  1.1406e+02,  4.1470e+00,  4.0750e+00,  1.0010e+00,\n",
       "        9.9900e-01,  1.2800e+00,  1.2650e+00,  9.8000e-01,  9.8500e-01,\n",
       "        4.5000e-02,  4.4000e-02,  4.4000e-02,  4.3000e-02,  1.0600e+00,\n",
       "        1.0500e+00,  1.0540e+00,  1.0540e+00,  4.0000e+00,  4.1500e+00,\n",
       "        1.3200e+00])"
      ]
     },
     "execution_count": 19,
     "metadata": {},
     "output_type": "execute_result"
    }
   ],
   "source": [
    "# reverse rows of x_array\n",
    "x_array[::-1]"
   ]
  },
  {
   "cell_type": "code",
   "execution_count": 22,
   "metadata": {},
   "outputs": [],
   "source": [
    "# saving the file as csv\n",
    "df.to_csv('person gait dataset.csv')"
   ]
  },
  {
   "cell_type": "code",
   "execution_count": 24,
   "metadata": {},
   "outputs": [
    {
     "name": "stderr",
     "output_type": "stream",
     "text": [
      "<ipython-input-24-15c939a4584c>:2: VisibleDeprecationWarning: Reading unicode strings without specifying the encoding argument is deprecated. Set the encoding, use None for the system default.\n",
      "  df_numpy=np.genfromtxt('C:/Users/Admin/person gait dataset.csv',delimiter=',', dtype=None)\n"
     ]
    }
   ],
   "source": [
    "# import the dataset with numpy\n",
    "df_numpy=np.genfromtxt('C:/Users/Admin/person gait dataset.csv',delimiter=',', dtype=None)"
   ]
  },
  {
   "cell_type": "code",
   "execution_count": 25,
   "metadata": {},
   "outputs": [
    {
     "data": {
      "text/plain": [
       "(322,)"
      ]
     },
     "execution_count": 25,
     "metadata": {},
     "output_type": "execute_result"
    }
   ],
   "source": [
    "df_numpy.shape"
   ]
  },
  {
   "cell_type": "code",
   "execution_count": 27,
   "metadata": {},
   "outputs": [],
   "source": [
    "# extract column 1 from the numpy array\n",
    "df_numpy_1=np.array([row[1]for row in df_numpy])"
   ]
  },
  {
   "cell_type": "code",
   "execution_count": 28,
   "metadata": {},
   "outputs": [
    {
     "name": "stdout",
     "output_type": "stream",
     "text": [
      "22.437947040498443\n",
      "2.49\n",
      "[ 0.255 18.11 ]\n"
     ]
    }
   ],
   "source": [
    "# get the common statistic value from the first column\n",
    "print(np.mean(df_numpy_1[1:].astype('float')))\n",
    "print(np.median(df_numpy_1[1:].astype('float')))\n",
    "print(np.percentile(df_numpy_1[1:].astype('float'),(25,75)))"
   ]
  },
  {
   "cell_type": "code",
   "execution_count": 29,
   "metadata": {},
   "outputs": [
    {
     "data": {
      "text/plain": [
       "array([0.13655206, 0.14154421, 0.14127961, 0.13608284, 0.13608284,\n",
       "       0.13607578, 0.13609342, 0.13429942, 0.13430119, 0.13430119,\n",
       "       0.13430295, 0.13596112, 0.1359523 , 0.13645504, 0.1364815 ,\n",
       "       0.13598582, 0.13598935, 0.14141191, 0.14153892, 0.33542663,\n",
       "       0.33530315, 0.33583235, 0.33392722, 0.14196758, 0.14200286,\n",
       "       0.14265554, 0.1429025 , 0.30155762, 0.29959957, 0.34913299,\n",
       "       0.35022668, 0.13598758, 0.13598758, 0.14101501, 0.14105029,\n",
       "       0.13651149, 0.13660675, 0.13656441, 0.13661381, 0.13448817,\n",
       "       0.1343594 , 0.13446877, 0.13440174, 0.13559244, 0.13615516,\n",
       "       0.136859  , 0.13684665, 0.13591702, 0.13606167, 0.15462612,\n",
       "       0.14433135, 0.1364374 , 0.13655206, 0.1365062 , 0.13655206,\n",
       "       0.13451463, 0.13441938, 0.13453051, 0.13445642, 0.13539664,\n",
       "       0.13590467, 0.13705304, 0.13701247, 0.13590114, 0.13607931,\n",
       "       0.15735151, 0.14901656, 0.16156574, 0.16332975, 0.14004481,\n",
       "       0.14022121, 0.18079345, 0.18114625, 0.18220466, 0.18308667,\n",
       "       0.05713631, 0.10846902, 0.27252201, 0.27358041, 0.13581118,\n",
       "       0.13616398, 0.23424297, 0.23725943, 0.23404893, 0.23729471,\n",
       "       0.13753991, 0.13734587, 0.13882764, 0.13840428, 0.22625201,\n",
       "       0.23045035, 0.24092858, 0.24928999, 0.13593466, 0.13956852,\n",
       "       0.14006245, 0.13956852, 0.21060523, 0.20758877, 0.21079927,\n",
       "       0.20755349, 0.13753991, 0.13734587, 0.13882764, 0.13840428,\n",
       "       0.20391963, 0.19555822, 0.2185962 , 0.21439785, 0.13605814,\n",
       "       0.13591702, 0.14187938, 0.14172062, 0.1661698 , 0.16971547,\n",
       "       0.165817  , 0.17080915, 0.1421087 , 0.14283194, 0.1450546 ,\n",
       "       0.14232038, 0.14759477, 0.14478999, 0.19000159, 0.19979185,\n",
       "       0.13581118, 0.13618162, 0.17772407, 0.17696555, 0.22586392,\n",
       "       0.22016617, 0.22626965, 0.21907248, 0.14376687, 0.14397855,\n",
       "       0.14503696, 0.14313182, 0.20358447, 0.18261038, 0.25583447,\n",
       "       0.25147736, 0.13611106, 0.13588174, 0.15260456, 0.15424509,\n",
       "       0.18703805, 0.1891725 , 0.18677345, 0.18883734, 0.13875708,\n",
       "       0.13861596, 0.13974492, 0.14064457, 0.17564254, 0.17661275,\n",
       "       0.19755155, 0.19755155, 0.13591702, 0.13605814, 0.14935878,\n",
       "       0.14830038, 0.16110709, 0.16110709, 0.16103653, 0.16103653,\n",
       "       0.13813967, 0.13813967, 0.13937448, 0.13937448, 0.15177548,\n",
       "       0.15177548, 0.17091499, 0.17091499, 0.1616363 , 0.1616363 ,\n",
       "       0.83188978, 0.88745612, 0.84758948, 0.91056466, 0.20160878,\n",
       "       0.21078163, 0.17920584, 0.22895094, 0.49708056, 0.6530191 ,\n",
       "       0.89909859, 1.        , 0.15133447, 0.15221648, 0.14101325,\n",
       "       0.14140133, 0.14118788, 0.14144014, 0.13505442, 0.13467339,\n",
       "       0.1347563 , 0.13483215, 0.1367514 , 0.14008538, 0.14215456,\n",
       "       0.14210693, 0.13589232, 0.13608813, 0.18511528, 0.19033675,\n",
       "       0.18913722, 0.19271816, 0.14226746, 0.14300834, 0.14302598,\n",
       "       0.1415795 , 0.16084249, 0.14951754, 0.2021027 , 0.20204978,\n",
       "       0.13582882, 0.13616398, 0.16211258, 0.16183034, 0.01160719,\n",
       "       0.01598194, 0.00906701, 0.01536453, 0.14706557, 0.13979784,\n",
       "       0.14052109, 0.14276138, 0.        , 0.00493923, 0.08999982,\n",
       "       0.02811833, 0.13605814, 0.13591702, 0.11573674, 0.12589744,\n",
       "       0.13423239, 0.13408421, 0.13428531, 0.13413537, 0.13434352,\n",
       "       0.13436469, 0.13438233, 0.13431001, 0.13392016, 0.1336538 ,\n",
       "       0.1343841 , 0.13462929, 0.13411597, 0.10542962, 0.32897035,\n",
       "       0.32826474, 0.32741802, 0.32641253, 0.13965672, 0.14078569,\n",
       "       0.13847484, 0.13948032, 0.32321967, 0.32006209, 0.35024432,\n",
       "       0.35146148, 0.13598758, 0.13598758, 0.13914516, 0.14018593,\n",
       "       0.13472631, 0.13473161, 0.13472631, 0.13473337, 0.13428355,\n",
       "       0.13425885, 0.13426414, 0.1342712 , 0.13436822, 0.13465752,\n",
       "       0.13484979, 0.13480922, 0.13596818, 0.13600699, 0.13440879,\n",
       "       0.1344035 , 0.13440703, 0.13440526, 0.13425532, 0.13425003,\n",
       "       0.13425003, 0.13425709, 0.13428531, 0.13434705, 0.13450758,\n",
       "       0.134467  , 0.13603168, 0.13594525, 0.13431177, 0.13429766,\n",
       "       0.13431354, 0.1342959 , 0.13424297, 0.13424121, 0.13424474,\n",
       "       0.13424121, 0.13426414, 0.13425532, 0.13435058, 0.13434176,\n",
       "       0.13631569, 0.13571063, 0.1344917 , 0.13451287, 0.13450052,\n",
       "       0.13451287, 0.13428002, 0.1342712 , 0.13430119, 0.13429237,\n",
       "       0.13435234, 0.13439468, 0.13463282, 0.13460283, 0.13586057,\n",
       "       0.13612517])"
      ]
     },
     "execution_count": 29,
     "metadata": {},
     "output_type": "execute_result"
    }
   ],
   "source": [
    "# normalize the value of the df_numpy_1\n",
    "(df_numpy_1[1:].astype('float') - np.min(df_numpy_1[1:].astype('float')))  /  (np.max(df_numpy_1[1:].astype('float')) - np.min(df_numpy_1[1:].astype('float')))"
   ]
  },
  {
   "cell_type": "code",
   "execution_count": 46,
   "metadata": {},
   "outputs": [
    {
     "data": {
      "text/plain": [
       "(322, 3)"
      ]
     },
     "execution_count": 46,
     "metadata": {},
     "output_type": "execute_result"
    }
   ],
   "source": [
    "df_nu=np.genfromtxt('C:/Users/Admin/person gait dataset.csv',delimiter=',', dtype='float')\n",
    "df_nu.shape"
   ]
  },
  {
   "cell_type": "code",
   "execution_count": 53,
   "metadata": {},
   "outputs": [
    {
     "data": {
      "text/plain": [
       "1.32"
      ]
     },
     "execution_count": 53,
     "metadata": {},
     "output_type": "execute_result"
    }
   ],
   "source": [
    "df_nu[1,1]"
   ]
  },
  {
   "cell_type": "code",
   "execution_count": 58,
   "metadata": {},
   "outputs": [],
   "source": [
    "# insert random values as in the df_numpy\n",
    "np.random.seed(100)\n",
    "df_nu[np.random.randint(322,size=20),np.random.randint(3,size=20)]=np.nan"
   ]
  },
  {
   "cell_type": "code",
   "execution_count": 60,
   "metadata": {},
   "outputs": [
    {
     "data": {
      "text/plain": [
       "(array([  0,   0,   0,   8,  14,  53,  58,  66,  79,  86,  93, 137, 141,\n",
       "        143, 155, 226, 228, 240, 245, 280, 280, 290, 316], dtype=int64),\n",
       " array([0, 1, 2, 0, 0, 1, 0, 1, 1, 2, 1, 2, 1, 2, 0, 2, 2, 1, 2, 0, 1, 2,\n",
       "        1], dtype=int64))"
      ]
     },
     "execution_count": 60,
     "metadata": {},
     "output_type": "execute_result"
    }
   ],
   "source": [
    "# find the position/index of missing values\n",
    "np.where(np.isnan(df_nu))"
   ]
  },
  {
   "cell_type": "code",
   "execution_count": 61,
   "metadata": {},
   "outputs": [
    {
     "data": {
      "text/plain": [
       "23"
      ]
     },
     "execution_count": 61,
     "metadata": {},
     "output_type": "execute_result"
    }
   ],
   "source": [
    "# find the total count of missing value\n",
    "np.isnan(df_nu).sum()"
   ]
  },
  {
   "cell_type": "code",
   "execution_count": 71,
   "metadata": {},
   "outputs": [],
   "source": [
    "# visualization"
   ]
  },
  {
   "cell_type": "code",
   "execution_count": 73,
   "metadata": {},
   "outputs": [
    {
     "data": {
      "text/plain": [
       "<matplotlib.axes._subplots.AxesSubplot at 0x584de8e700>"
      ]
     },
     "execution_count": 73,
     "metadata": {},
     "output_type": "execute_result"
    },
    {
     "data": {
      "image/png": "[encoded data removed]",
      "text/plain": [
       "<Figure size 432x288 with 1 Axes>"
      ]
     },
     "metadata": {
      "needs_background": "light"
     },
     "output_type": "display_data"
    }
   ],
   "source": [
    "# scatter plot\n",
    "sns.scatterplot(data=df, x='X',y='Y') # using seaborn"
   ]
  },
  {
   "cell_type": "code",
   "execution_count": 75,
   "metadata": {},
   "outputs": [
    {
     "data": {
      "text/plain": [
       "<matplotlib.axes._subplots.AxesSubplot at 0x584df4f520>"
      ]
     },
     "execution_count": 75,
     "metadata": {},
     "output_type": "execute_result"
    },
    {
     "data": {
      "image/png": "[encoded data removed]",
      "text/plain": [
       "<Figure size 432x288 with 1 Axes>"
      ]
     },
     "metadata": {
      "needs_background": "light"
     },
     "output_type": "display_data"
    }
   ],
   "source": [
    "df.plot(x='X',y='Y',kind='scatter') #using matplotlib"
   ]
  },
  {
   "cell_type": "code",
   "execution_count": 80,
   "metadata": {
    "scrolled": true
   },
   "outputs": [
    {
     "data": {
      "text/plain": [
       "<matplotlib.collections.PathCollection at 0x587473bcd0>"
      ]
     },
     "execution_count": 80,
     "metadata": {},
     "output_type": "execute_result"
    },
    {
     "data": {
      "image/png": "[encoded data removed]",
      "text/plain": [
       "<Figure size 432x288 with 1 Axes>"
      ]
     },
     "metadata": {
      "needs_background": "light"
     },
     "output_type": "display_data"
    }
   ],
   "source": [
    "np.random.seed(100)\n",
    "N=321\n",
    "colors = np.random.rand(N)\n",
    "plt.scatter(df['X'],df['Y'],c=colors) # using matplotlib"
   ]
  },
  {
   "cell_type": "code",
   "execution_count": null,
   "metadata": {},
   "outputs": [],
   "source": []
  }
 ],
 "metadata": {
  "kernelspec": {
   "display_name": "Python 3",
   "language": "python",
   "name": "python3"
  },
  "language_info": {
   "codemirror_mode": {
    "name": "ipython",
    "version": 3
   },
   "file_extension": ".py",
   "mimetype": "text/x-python",
   "name": "python",
   "nbconvert_exporter": "python",
   "pygments_lexer": "ipython3",
   "version": "3.8.3"
  }
 },
 "nbformat": 4,
 "nbformat_minor": 4
}
